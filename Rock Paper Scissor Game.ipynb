{
  "nbformat": 4,
  "nbformat_minor": 0,
  "metadata": {
    "colab": {
      "name": "Python Programs 1.ipynb",
      "provenance": [],
      "authorship_tag": "ABX9TyPmnzuq+UdNkA5kmqEGa07M",
      "include_colab_link": true
    },
    "kernelspec": {
      "name": "python3",
      "display_name": "Python 3"
    },
    "language_info": {
      "name": "python"
    }
  },
  "cells": [
    {
      "cell_type": "markdown",
      "metadata": {
        "id": "view-in-github",
        "colab_type": "text"
      },
      "source": [
        "<a href=\"https://colab.research.google.com/github/prithivi96/AAIC_Python-Assign/blob/main/Rock%20Paper%20Scissor%20Game.ipynb\" target=\"_parent\"><img src=\"https://colab.research.google.com/assets/colab-badge.svg\" alt=\"Open In Colab\"/></a>"
      ]
    },
    {
      "cell_type": "code",
      "metadata": {
        "id": "hbIVOSJrSNdT"
      },
      "source": [
        "#Python Program - Create a Rock paper scissor game using functions"
      ],
      "execution_count": 1,
      "outputs": []
    },
    {
      "cell_type": "code",
      "metadata": {
        "id": "X1ttvr-QSVAe"
      },
      "source": [
        "import random\n",
        "import time"
      ],
      "execution_count": 2,
      "outputs": []
    },
    {
      "cell_type": "code",
      "metadata": {
        "id": "NZ2Os5BBSb1u"
      },
      "source": [
        "rock = 1\n",
        "scissor = 2\n",
        "paper = 3\n",
        "\n",
        "names = {rock:\"Rock\",scissor:\"Scissor\",paper:\"Paper\"}\n",
        "rules = {rock: scissor, scissor: paper , paper:rock}\n",
        "\n",
        "player_score = 0\n",
        "computer_score =0"
      ],
      "execution_count": 4,
      "outputs": []
    },
    {
      "cell_type": "code",
      "metadata": {
        "colab": {
          "base_uri": "https://localhost:8080/"
        },
        "id": "DantM57PT49y",
        "outputId": "b0f8a59f-0d46-4d60-8dfa-691dc0a2d647"
      },
      "source": [
        "def start():\n",
        "  global player_score,computer_score\n",
        "  player_score = 0\n",
        "  computer_score =0\n",
        "  print(\"Lets Start the Game\")\n",
        "  while game():\n",
        "    pass\n",
        "  score()\n",
        "\n",
        "def game():\n",
        "  player = move()\n",
        "  computer = random.randint(1,3)\n",
        "  result(player,computer)\n",
        "  return play_again()\n",
        "\n",
        "def move():\n",
        "  while True:\n",
        "    player = input(\"1.Rock \\n2.Scissor \\n3.Paper \\t\")\n",
        "    try:\n",
        "      player = int(player)\n",
        "      if player in [1,2,3]:\n",
        "        return player\n",
        "    except ValueError:\n",
        "      print(\"Oops!! Couldn't understand the option\")\n",
        "\n",
        "def result(player,computer):\n",
        "  print(\"1..\")\n",
        "  time.sleep(3)\n",
        "  print(\"2..\")\n",
        "  time.sleep(3)\n",
        "  print('3..')\n",
        "  time.sleep(3)\n",
        "  print(f\"Computer thrown {names[computer]}\")\n",
        "  global player_score,computer_score\n",
        "  if player == computer:\n",
        "    print(\"Tie Game\")\n",
        "  else:\n",
        "    if rules[player]==computer:\n",
        "      print(\"You Win!!\")\n",
        "      player_score += 1\n",
        "    else:\n",
        "      print(\"You Lose!\")\n",
        "      computer_score += 1\n",
        "\n",
        "def play_again():\n",
        "  answer = input(\"Enter Yes/No to continue: \").lower()\n",
        "  if answer in ['yes','y']:\n",
        "    return answer\n",
        "  else:\n",
        "    print(\"Thank You for Playing!!\")\n",
        "\n",
        "def score():\n",
        "  global player_score,computer_score\n",
        "  print(f\"\"\" High Scores \n",
        "  Player Score: {player_score}\n",
        "  Computer Score: {computer_score}  \n",
        "  \"\"\")\n",
        "\n",
        "if __name__=='__main__':\n",
        "  start()\n",
        "\n",
        "\n",
        "\n"
      ],
      "execution_count": 11,
      "outputs": [
        {
          "output_type": "stream",
          "text": [
            "Lets Start the Game\n",
            "1.Rock \n",
            "2.Scissor \n",
            "3.Paper \t2\n",
            "1..\n",
            "2..\n",
            "3..\n",
            "Computer thrown Paper\n",
            "You Win!!\n",
            "Enter Yes/No to continue: y\n",
            "1.Rock \n",
            "2.Scissor \n",
            "3.Paper \t5\n",
            "1.Rock \n",
            "2.Scissor \n",
            "3.Paper \t3\n",
            "1..\n",
            "2..\n",
            "3..\n",
            "Computer thrown Scissor\n",
            "You Lose!\n",
            "Enter Yes/No to continue: n\n",
            "Thank You for Playing!!\n",
            " High Scores \n",
            "  Player Score: 1\n",
            "  Computer Score: 1  \n",
            "  \n"
          ],
          "name": "stdout"
        }
      ]
    }
  ]
}